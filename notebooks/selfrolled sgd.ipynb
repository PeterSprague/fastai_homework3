{
 "cells": [
  {
   "cell_type": "markdown",
   "metadata": {},
   "source": [
    "# Implementing stochastic gradient descent\n",
    "* Define some linear function y = ax + b, choose some weights\n",
    "* Define an actual python function that calculates this\n",
    "* generate some random x as input\n",
    "* set up some initial guesses for a and b\n",
    "* set up cost function (mean sse) and loss function\n",
    "* find derivatives wrt y and x of cost function"
   ]
  },
  {
   "cell_type": "code",
   "execution_count": 139,
   "metadata": {},
   "outputs": [],
   "source": [
    "a = 4\n",
    "b = -2"
   ]
  },
  {
   "cell_type": "code",
   "execution_count": 140,
   "metadata": {
    "collapsed": true
   },
   "outputs": [],
   "source": [
    "import numpy as np"
   ]
  },
  {
   "cell_type": "code",
   "execution_count": 141,
   "metadata": {},
   "outputs": [],
   "source": [
    "x = np.random.rand(10,1)"
   ]
  },
  {
   "cell_type": "code",
   "execution_count": 142,
   "metadata": {},
   "outputs": [],
   "source": [
    "def error(y_guess): return sum(np.square(y_guess - original_function(x)))\n",
    "def guess(x, guess_a, guess_b): return guess_a * x + guess_b\n",
    "def lin(x,a,b): return a*x + b\n",
    "y = lin(x,a,b)"
   ]
  },
  {
   "cell_type": "markdown",
   "metadata": {},
   "source": [
    "We want to minimise the cost function. The cost function depends on two parameters, a and b. I have to use the derivatives of the cost with respect to these two variables."
   ]
  },
  {
   "cell_type": "code",
   "execution_count": 145,
   "metadata": {},
   "outputs": [],
   "source": [
    "def dydb(y_guess): return 2 * (y_guess - y)\n",
    "def dyda(y_guess): return ((2* (y_guess - y))*x)\n",
    "lr = 0.7\n",
    "epochs = 10"
   ]
  },
  {
   "cell_type": "code",
   "execution_count": 146,
   "metadata": {},
   "outputs": [
    {
     "name": "stdout",
     "output_type": "stream",
     "text": [
      "Error is: [ 1.65540072]\n",
      "guess_a is 3.11239836023 and guess_b is -1.36540938769\r\n",
      "\n"
     ]
    }
   ],
   "source": [
    "guess_a = 1\n",
    "guess_b = 1\n",
    "for i in range(epochs):\n",
    "    global guess_a, guess_b\n",
    "    y_guess = lin(x, guess_a, guess_b)\n",
    "#     print \"Error is: \" + str(error(y_guess))\n",
    "    guess_a = guess_a - lr*dyda(y_guess).mean()\n",
    "    guess_b = guess_b - lr*dydb(y_guess).mean()\n",
    "#     print \"guess_a is \" + str(guess_a) + \" and guess_b is \" + str(guess_b) + \"\\r\\n\"\n",
    "print \"Error is: \" + str(error(y_guess))\n",
    "print \"guess_a is \" + str(guess_a) + \" and guess_b is \" + str(guess_b) + \"\\r\\n\""
   ]
  },
  {
   "cell_type": "code",
   "execution_count": null,
   "metadata": {
    "collapsed": true
   },
   "outputs": [],
   "source": []
  }
 ],
 "metadata": {
  "kernelspec": {
   "display_name": "Python 2",
   "language": "python",
   "name": "python2"
  },
  "language_info": {
   "codemirror_mode": {
    "name": "ipython",
    "version": 2
   },
   "file_extension": ".py",
   "mimetype": "text/x-python",
   "name": "python",
   "nbconvert_exporter": "python",
   "pygments_lexer": "ipython2",
   "version": "2.7.13"
  }
 },
 "nbformat": 4,
 "nbformat_minor": 2
}
